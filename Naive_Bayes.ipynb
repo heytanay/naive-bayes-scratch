{
  "nbformat": 4,
  "nbformat_minor": 0,
  "metadata": {
    "colab": {
      "name": "Naive Bayes.ipynb",
      "version": "0.3.2",
      "provenance": [],
      "include_colab_link": true
    },
    "kernelspec": {
      "name": "python3",
      "display_name": "Python 3"
    }
  },
  "cells": [
    {
      "cell_type": "markdown",
      "metadata": {
        "id": "view-in-github",
        "colab_type": "text"
      },
      "source": [
        "<a href=\"https://colab.research.google.com/github/heytanay/naive-bayes-scratch/blob/master/Naive_Bayes.ipynb\" target=\"_parent\"><img src=\"https://colab.research.google.com/assets/colab-badge.svg\" alt=\"Open In Colab\"/></a>"
      ]
    },
    {
      "cell_type": "code",
      "metadata": {
        "id": "g87oDG2dBolt",
        "colab_type": "code",
        "colab": {}
      },
      "source": [
        "import csv\n",
        "\n",
        "def loadCsv(file_name):\n",
        "  file = csv.reader(open(file_name, 'r'))\n",
        "  \n",
        "  dataset = list(file)\n",
        "  \n",
        "  for i in range(len(dataset)):\n",
        "    dataset[i] = [float(x) for x  in dataset[i]]\n",
        "  return dataset"
      ],
      "execution_count": 0,
      "outputs": []
    },
    {
      "cell_type": "code",
      "metadata": {
        "id": "38-81YObCdvj",
        "colab_type": "code",
        "colab": {}
      },
      "source": [
        "import random\n",
        "\n",
        "def splitDataset(dataset, split_ratio):\n",
        "  train_size = int(len(dataset)) * split_ratio\n",
        "  \n",
        "  trainSet = []\n",
        "  \n",
        "  testSet = list(dataset)\n",
        "  \n",
        "  while len(trainSet) < train_size:\n",
        "    index = random.randrange(len(testSet))\n",
        "    trainSet.append(copy.pop(index))\n",
        "    \n",
        "  return [trainSet, testSet]"
      ],
      "execution_count": 0,
      "outputs": []
    },
    {
      "cell_type": "code",
      "metadata": {
        "id": "EUUkadAyCpxT",
        "colab_type": "code",
        "colab": {}
      },
      "source": [
        "ds = loadCsv('./sample_data/mnist_train_small.csv')\n",
        "\n",
        "[sp, cp] = splitDataset(ds, 0.70)"
      ],
      "execution_count": 0,
      "outputs": []
    },
    {
      "cell_type": "code",
      "metadata": {
        "id": "_lcwiGp0GlVv",
        "colab_type": "code",
        "colab": {}
      },
      "source": [
        "def seperateByClass(dataset):\n",
        "  seperated = dict()\n",
        "  \n",
        "  for i in range(len(dataset)):\n",
        "    vector = dataset[i]\n",
        "    \n",
        "    if (vector[-1] not in seperated):\n",
        "      seperated[vector[-1]] = []\n",
        "      \n",
        "    seperated[vector[-1]].append(vector)\n",
        "  \n",
        "  return seperated"
      ],
      "execution_count": 0,
      "outputs": []
    },
    {
      "cell_type": "code",
      "metadata": {
        "id": "EL-Xa-jaG09Q",
        "colab_type": "code",
        "colab": {}
      },
      "source": [
        "import math\n",
        "\n",
        "\n",
        "def mean(numbers):\n",
        "  return sum(numbers)/(float(len(numbers)))\n",
        "\n",
        "def stddev(numbers):\n",
        "  avg = mean(numbers)\n",
        "  \n",
        "  variance = sum([pow(x-avg, 2) for x in numbers]) / float(len(numbers)-1)\n",
        "  \n",
        "  return (math.sqrt(variance))"
      ],
      "execution_count": 0,
      "outputs": []
    },
    {
      "cell_type": "code",
      "metadata": {
        "id": "34bFqyApIsLZ",
        "colab_type": "code",
        "colab": {
          "base_uri": "https://localhost:8080/",
          "height": 34
        },
        "outputId": "6eb3ca57-ba80-43f9-ef92-4bc670df828f"
      },
      "source": [
        "stddev([1,2,3,5,7])"
      ],
      "execution_count": 48,
      "outputs": [
        {
          "output_type": "execute_result",
          "data": {
            "text/plain": [
              "2.408318915758459"
            ]
          },
          "metadata": {
            "tags": []
          },
          "execution_count": 48
        }
      ]
    },
    {
      "cell_type": "code",
      "metadata": {
        "id": "oMCg4iPeIuc1",
        "colab_type": "code",
        "colab": {}
      },
      "source": [
        "def summary(dataset):\n",
        "  summ = [(mean(attribute), stddev(attribute)) for attribute in zip(*dataset)]\n",
        "  \n",
        "  del summ[-1]\n",
        "  \n",
        "  return summ"
      ],
      "execution_count": 0,
      "outputs": []
    },
    {
      "cell_type": "code",
      "metadata": {
        "id": "6cIoCBVNNrgP",
        "colab_type": "code",
        "colab": {}
      },
      "source": [
        "dataset = [[1,20,0], [2,21,1], [3,22,0]]\n",
        "summary = summary(dataset)"
      ],
      "execution_count": 0,
      "outputs": []
    },
    {
      "cell_type": "code",
      "metadata": {
        "id": "URcmQ-NeN4h4",
        "colab_type": "code",
        "colab": {}
      },
      "source": [
        "def summarizedByClass(dataset):\n",
        "  seperated = seperateByClass(dataset)\n",
        "  \n",
        "  summ = {}\n",
        "  \n",
        "  for key, value in seperated.items():\n",
        "    summ[key] = summary(values)\n",
        "  \n",
        "  return summ"
      ],
      "execution_count": 0,
      "outputs": []
    },
    {
      "cell_type": "code",
      "metadata": {
        "id": "ZPqLrAN-OhF0",
        "colab_type": "code",
        "colab": {}
      },
      "source": [
        "def calculateProb(x, mean, stddev):\n",
        "  exp_term = math.exp(-(math.pow(x - mean, 2)) / 2*math.pow(stddev, 2))\n",
        "  \n",
        "  return (1 / stddev * math.sqrt(2 * 3.14)) * exp_term"
      ],
      "execution_count": 0,
      "outputs": []
    },
    {
      "cell_type": "code",
      "metadata": {
        "id": "k8fvBrIxQbV8",
        "colab_type": "code",
        "colab": {}
      },
      "source": [
        "def calculateClassProb(summaries, inputVector):\n",
        "  probabilities = {}\n",
        "  \n",
        "  for classValue, classSummaries in summaries.items():\n",
        "    probabilities[classValue] = 1\n",
        "    \n",
        "    for i in range(len(classSummaries)):\n",
        "      mean, stdev = classSummaries[i]\n",
        "      \n",
        "      x = inputVector[i]\n",
        "      \n",
        "      probabilities[classValue] *= calculateProb(x, mean, stdev)\n",
        "      \n",
        "  return probabilities"
      ],
      "execution_count": 0,
      "outputs": []
    },
    {
      "cell_type": "code",
      "metadata": {
        "id": "VLAaB_JyQcu6",
        "colab_type": "code",
        "colab": {
          "base_uri": "https://localhost:8080/",
          "height": 34
        },
        "outputId": "8b165abd-4a67-42cb-ca51-14a00a268597"
      },
      "source": [
        "summaries = {0:[(1, 0.5)], 1:[(20, 5.0)]}\n",
        "inputVector = [1.1, '?']\n",
        "\n",
        "print(calculateClassProb(summaries, inputVector))"
      ],
      "execution_count": 55,
      "outputs": [
        {
          "output_type": "stream",
          "text": [
            "{0: 5.005724566396378, 1: 0.0}\n"
          ],
          "name": "stdout"
        }
      ]
    },
    {
      "cell_type": "code",
      "metadata": {
        "id": "tQT4tqlWXk2h",
        "colab_type": "code",
        "colab": {}
      },
      "source": [
        "def predict(summaries, inputVector):\n",
        "\tprobabilities = calculateClassProb(summaries, inputVector)\n",
        "\tbestLabel, bestProb = None, -1\n",
        "\tfor classValue, probability in probabilities.items():\n",
        "\t\tif bestLabel is None or probability > bestProb:\n",
        "\t\t\tbestProb = probability\n",
        "\t\t\tbestLabel = classValue\n",
        "\treturn bestLabel"
      ],
      "execution_count": 0,
      "outputs": []
    },
    {
      "cell_type": "code",
      "metadata": {
        "id": "NxiPjEewYgrr",
        "colab_type": "code",
        "colab": {
          "base_uri": "https://localhost:8080/",
          "height": 34
        },
        "outputId": "be713ada-92f7-4663-d7cb-b68b0d0ed278"
      },
      "source": [
        "print(predict(summaries, inputVector))"
      ],
      "execution_count": 59,
      "outputs": [
        {
          "output_type": "stream",
          "text": [
            "0\n"
          ],
          "name": "stdout"
        }
      ]
    },
    {
      "cell_type": "code",
      "metadata": {
        "id": "POLUjxw6YmzB",
        "colab_type": "code",
        "colab": {}
      },
      "source": [
        ""
      ],
      "execution_count": 0,
      "outputs": []
    }
  ]
}